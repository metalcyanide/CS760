{
 "cells": [
  {
   "cell_type": "code",
   "execution_count": 1,
   "metadata": {},
   "outputs": [],
   "source": [
    "import numpy as np\n",
    "import pandas as pd\n",
    "import matplotlib.pyplot as plt"
   ]
  },
  {
   "cell_type": "code",
   "execution_count": 2,
   "metadata": {},
   "outputs": [],
   "source": [
    "from collections import defaultdict"
   ]
  },
  {
   "cell_type": "code",
   "execution_count": 29,
   "metadata": {},
   "outputs": [],
   "source": [
    "prob_events = defaultdict(list)\n",
    "\n",
    "prob_events['B'] = [0.9, 0.1]\n",
    "prob_events['E'] = [0.8, 0.2]\n",
    "\n",
    "cond_prob_events_J_A = defaultdict(list)\n",
    "cond_prob_events_M_A = defaultdict(list)\n",
    "\n",
    "cond_prob_events_J_A[1] = [0.1, 0.9]\n",
    "cond_prob_events_J_A[0] = [0.8, 0.2]\n",
    "cond_prob_events_M_A[1] = [0.3, 0.7]\n",
    "cond_prob_events_M_A[0] = [0.9, 0.1]\n"
   ]
  },
  {
   "cell_type": "code",
   "execution_count": 30,
   "metadata": {},
   "outputs": [],
   "source": [
    "cond_prob_events_A_B_E = defaultdict(list)\n",
    "cond_prob_events_A_B_E[(1,1)] = [0.1, 0.9]\n",
    "cond_prob_events_A_B_E[(1,0)] = [0.2, 0.8]\n",
    "cond_prob_events_A_B_E[(0,1)] = [0.7, 0.3]\n",
    "cond_prob_events_A_B_E[(0,0)] = [0.9, 0.1]\n"
   ]
  },
  {
   "cell_type": "code",
   "execution_count": 31,
   "metadata": {},
   "outputs": [],
   "source": [
    "from itertools import combinations, permutations, combinations_with_replacement"
   ]
  },
  {
   "cell_type": "code",
   "execution_count": 32,
   "metadata": {},
   "outputs": [],
   "source": [
    "def cond_prob(E, J, M):\n",
    "    prob = defaultdict(int)\n",
    "    for B,A in [(0,0),(1,0),(0,1),(1,1)]:\n",
    "        prob[B] += prob_events['B'][B]*cond_prob_events_A_B_E[(B,E)][A]*cond_prob_events_J_A[A][J]*cond_prob_events_M_A[A][M]\n",
    "    return prob"
   ]
  },
  {
   "cell_type": "code",
   "execution_count": 33,
   "metadata": {},
   "outputs": [],
   "source": [
    "val_B_Ef = cond_prob(0,1,1)"
   ]
  },
  {
   "cell_type": "code",
   "execution_count": 34,
   "metadata": {},
   "outputs": [],
   "source": [
    "val_B_Et = cond_prob(1,1,1)"
   ]
  },
  {
   "cell_type": "code",
   "execution_count": 35,
   "metadata": {},
   "outputs": [
    {
     "data": {
      "text/plain": [
       "defaultdict(int, {0: 0.0729, 1: 0.05080000000000001})"
      ]
     },
     "execution_count": 35,
     "metadata": {},
     "output_type": "execute_result"
    }
   ],
   "source": [
    "val_B_Ef"
   ]
  },
  {
   "cell_type": "code",
   "execution_count": 36,
   "metadata": {},
   "outputs": [
    {
     "data": {
      "text/plain": [
       "defaultdict(int, {0: 0.1827, 1: 0.056900000000000006})"
      ]
     },
     "execution_count": 36,
     "metadata": {},
     "output_type": "execute_result"
    }
   ],
   "source": [
    "val_B_Et"
   ]
  },
  {
   "cell_type": "code",
   "execution_count": 37,
   "metadata": {},
   "outputs": [
    {
     "data": {
      "text/plain": [
       "0.23747913188647748"
      ]
     },
     "execution_count": 37,
     "metadata": {},
     "output_type": "execute_result"
    }
   ],
   "source": [
    "val_B_Et[1]/(val_B_Et[0]+val_B_Et[1])"
   ]
  },
  {
   "cell_type": "code",
   "execution_count": 39,
   "metadata": {},
   "outputs": [
    {
     "data": {
      "text/plain": [
       "0.41067097817299925"
      ]
     },
     "execution_count": 39,
     "metadata": {},
     "output_type": "execute_result"
    }
   ],
   "source": [
    "val_B_Ef[1]/(val_B_Ef[0]+val_B_Ef[1])"
   ]
  },
  {
   "cell_type": "code",
   "execution_count": 41,
   "metadata": {},
   "outputs": [],
   "source": [
    "def I(probs, p_x, p_y):\n",
    "    val = 0\n",
    "    for x,y in [(0,0),(1,0),(0,1),(1,1)]:\n",
    "        val += probs[(x,y)]*(np.log2((probs[(x,y)])/(p_x[x]*p_y[y])))\n",
    "    return val\n",
    "    "
   ]
  },
  {
   "cell_type": "code",
   "execution_count": 49,
   "metadata": {},
   "outputs": [],
   "source": [
    "probs_XY = {(1,1): 0.4,(1,0):0.1,(0,1):0.1,(0,0):0.4}\n",
    "probs_YZ = {(1,1): 0.45,(1,0):0.05,(0,1):0.1,(0,0):0.4}\n",
    "probs_XZ = {(1,1): 0.38,(1,0):0.12,(0,1):0.17,(0,0):0.33}\n",
    "\n",
    "p_x, p_y, p_z = {0:0.5, 1:0.5},{0:0.5, 1:0.5}, {0:0.45, 1:0.55}"
   ]
  },
  {
   "cell_type": "code",
   "execution_count": 50,
   "metadata": {},
   "outputs": [
    {
     "data": {
      "text/plain": [
       "0.27807190511263774"
      ]
     },
     "execution_count": 50,
     "metadata": {},
     "output_type": "execute_result"
    }
   ],
   "source": [
    "I(probs_XY, p_x, p_y)"
   ]
  },
  {
   "cell_type": "code",
   "execution_count": 53,
   "metadata": {},
   "outputs": [
    {
     "data": {
      "text/plain": [
       "0.1328449618090321"
      ]
     },
     "execution_count": 53,
     "metadata": {},
     "output_type": "execute_result"
    }
   ],
   "source": [
    "I(probs_XZ, p_x, p_z)"
   ]
  },
  {
   "cell_type": "code",
   "execution_count": 52,
   "metadata": {},
   "outputs": [
    {
     "data": {
      "text/plain": [
       "0.39731260974948646"
      ]
     },
     "execution_count": 52,
     "metadata": {},
     "output_type": "execute_result"
    }
   ],
   "source": [
    "I(probs_YZ, p_y, p_z)"
   ]
  },
  {
   "cell_type": "code",
   "execution_count": null,
   "metadata": {},
   "outputs": [],
   "source": []
  }
 ],
 "metadata": {
  "kernelspec": {
   "display_name": "base",
   "language": "python",
   "name": "python3"
  },
  "language_info": {
   "codemirror_mode": {
    "name": "ipython",
    "version": 3
   },
   "file_extension": ".py",
   "mimetype": "text/x-python",
   "name": "python",
   "nbconvert_exporter": "python",
   "pygments_lexer": "ipython3",
   "version": "3.11.0"
  }
 },
 "nbformat": 4,
 "nbformat_minor": 2
}
