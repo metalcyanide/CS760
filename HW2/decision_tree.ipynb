{
 "cells": [
  {
   "cell_type": "code",
   "execution_count": 1,
   "metadata": {},
   "outputs": [],
   "source": [
    "import numpy as np\n",
    "import pandas as pd\n",
    "from collections import defaultdict"
   ]
  },
  {
   "cell_type": "code",
   "execution_count": 218,
   "metadata": {},
   "outputs": [],
   "source": [
    "filename = \"D1.txt\"\n",
    "\n",
    "def read_data(filename):\n",
    "    data = pd.read_csv(filename, delimiter=\" \", header=None)\n",
    "    return data\n",
    "\n",
    "d1_data = read_data(\"D1.txt\")\n",
    "d2_data = read_data(\"D2.txt\")\n",
    "druns_data = read_data(\"Druns.txt\")\n",
    "d3leaves_data = read_data(\"D3leaves.txt\")\n",
    "dbig_data = read_data(\"Dbig.txt\")\n",
    "data = read_data(filename)"
   ]
  },
  {
   "cell_type": "code",
   "execution_count": 275,
   "metadata": {},
   "outputs": [],
   "source": [
    "\n",
    "def check_termination(data):\n",
    "    label_col = list(data.columns)[-1]\n",
    "    labels = list(data[label_col])\n",
    "    if len(labels) == 0:\n",
    "        return [True, None]\n",
    "    else:\n",
    "        if sum(labels) == 0:\n",
    "            return [True, 0]\n",
    "        elif sum(labels) == len(labels):\n",
    "            return [True, 1]\n",
    "    return [False, None]\n",
    "    \n",
    "\n",
    "def find_candidate_splits(data):\n",
    "    splits = defaultdict(list)\n",
    "    feature_cols = list(data.columns)[:-1]\n",
    "    label_col = list(data.columns)[-1]\n",
    "    \n",
    "    for feature in feature_cols:\n",
    "        feature_sorted = data.sort_values([feature, label_col])\n",
    "        splits[feature] = np.unique(list(feature_sorted[feature]))\n",
    "    return splits\n",
    "\n",
    "def get_probabilites(data):\n",
    "    label_col = list(data.columns)[-1]\n",
    "    labels = list(data[label_col])\n",
    "    counts = sum(labels)\n",
    "    if len(labels) == 0:\n",
    "        return [0, 0]\n",
    "    prob_1 = counts/len(labels)\n",
    "    return [1-prob_1, prob_1]\n",
    "\n",
    "def entropy(probs):\n",
    "    return sum([-prob*np.log2(prob) if prob!=0 else 0 for prob in probs])\n",
    "\n",
    "def calculate_information(data):\n",
    "    probs = get_probabilites(data)\n",
    "    return entropy(probs)"
   ]
  },
  {
   "cell_type": "code",
   "execution_count": 326,
   "metadata": {},
   "outputs": [],
   "source": [
    "def calculate_information_gain(data, feature, split_thresh):\n",
    "    \n",
    "    data_split_less = data[data[feature] < split_thresh]\n",
    "    data_split_more = data[data[feature] >= split_thresh]\n",
    "    \n",
    "    [entropy_data, entropy_split_less, entropy_split_more] = map(\n",
    "        calculate_information, [data, data_split_less, data_split_more])\n",
    "    \n",
    "    split_ratio = [len(data_split_less)/len(data), len(data_split_more)/len(data)]\n",
    "\n",
    "    info_gain = entropy_data - (split_ratio[0]*entropy_split_less + \n",
    "                                split_ratio[1]*entropy_split_more)\n",
    "    \n",
    "    # print(feature, split_thresh, entropy_data, entropy_split_less, entropy_split_more)\n",
    "    if entropy(split_ratio) == 0:\n",
    "        return [info_gain, None]\n",
    "    return [info_gain, info_gain/entropy(split_ratio)]\n",
    "\n",
    "\n",
    "def get_information_gain_ratio(data, debug=False):\n",
    "    splits = find_candidate_splits(data)\n",
    "    information_gain_ratio_info = defaultdict(list)\n",
    "    information_gain_info = defaultdict(list)\n",
    "    for feature in splits.keys():\n",
    "        candidates = splits[feature]\n",
    "        # print(candidates)\n",
    "        for candidate_thresh in candidates:\n",
    "            \n",
    "            info_gain = calculate_information_gain(data, feature, candidate_thresh)\n",
    "            information_gain_info[feature].append(info_gain[0])\n",
    "            # print(candidate_thresh, info_gain[0], info_gain[1])\n",
    "            if info_gain[1] != None:\n",
    "                information_gain_ratio_info[feature].append(info_gain[1])\n",
    "            else:\n",
    "                if debug:\n",
    "                    print(feature, candidate_thresh, info_gain[0], info_gain[1])\n",
    "                information_gain_ratio_info[feature].append(info_gain[0])\n",
    "    return splits, information_gain_ratio_info, information_gain_info\n",
    "    "
   ]
  },
  {
   "cell_type": "code",
   "execution_count": 327,
   "metadata": {},
   "outputs": [
    {
     "data": {
      "text/plain": [
       "<matplotlib.legend.Legend at 0x28e4dd190>"
      ]
     },
     "execution_count": 327,
     "metadata": {},
     "output_type": "execute_result"
    },
    {
     "data": {
      "image/png": "[encoded data removed]",
      "text/plain": [
       "<Figure size 640x480 with 1 Axes>"
      ]
     },
     "metadata": {},
     "output_type": "display_data"
    }
   ],
   "source": [
    "from matplotlib import pyplot as plt\n",
    "example_data = read_data(\"example.txt\")\n",
    "plt.scatter(example_data[example_data[2] == 1][0], \n",
    "            example_data[example_data[2] == 1][1], color='red', label='1')\n",
    "plt.scatter(example_data[example_data[2] == 0][0], \n",
    "            example_data[example_data[2] == 0][1], color='blue', label='0')\n",
    "plt.plot([x for x in np.arange(0,1.1,0.1)], [1 for x in np.arange(0,1.1,0.1)], color='black', label='decision boundaries')\n",
    "plt.plot([x for x in np.arange(0,1.1,0.1)], [0 for x in np.arange(0,1.1,0.1)], color='black')\n",
    "\n",
    "plt.plot([1 for x in np.arange(0,1.1,0.1)],[x for x in np.arange(0,1.1,0.1)],  color='black')\n",
    "plt.plot([0 for x in np.arange(0,1.1,0.1)],[x for x in np.arange(0,1.1,0.1)],  color='black')\n",
    "plt.legend()"
   ]
  },
  {
   "cell_type": "code",
   "execution_count": 537,
   "metadata": {},
   "outputs": [
    {
     "name": "stdout",
     "output_type": "stream",
     "text": [
      "0 0.0 0.0 None\n",
      "1 -2 0.0 None\n",
      "defaultdict(<class 'list'>, {0: [0.0, 0.10051807676021828], 1: [0.0, 0.10051807676021828, 0.055953759631263526, 0.00578004220515232, 0.0011443495172767494, 0.016411136842102134, 0.049749064181778546, 0.11124029586339801, 0.23609960614360798, 0.055953759631263526, 0.4301569161309807]}) defaultdict(<class 'list'>, {0: [0.0, 0.04417739186726133], 1: [0.0, 0.04417739186726133, 0.03827452220629246, 0.004886164091842726, 0.0010821659130775263, 0.016313165825732057, 0.04945207278939401, 0.10519553207004628, 0.19958702318968735, 0.03827452220629246, 0.18905266854301617]})\n",
      " (x1,0.0) &  0.0 &  0.0 \\\\\n",
      " (x1,0.1) &  0.10051807676021828 &  0.04417739186726133 \\\\\n",
      " (x2,-2) &  0.0 &  0.0 \\\\\n",
      " (x2,-1) &  0.10051807676021828 &  0.04417739186726133 \\\\\n",
      " (x2,0) &  0.055953759631263526 &  0.03827452220629246 \\\\\n",
      " (x2,1) &  0.00578004220515232 &  0.004886164091842726 \\\\\n",
      " (x2,2) &  0.0011443495172767494 &  0.0010821659130775263 \\\\\n",
      " (x2,3) &  0.016411136842102134 &  0.016313165825732057 \\\\\n",
      " (x2,4) &  0.049749064181778546 &  0.04945207278939401 \\\\\n",
      " (x2,5) &  0.11124029586339801 &  0.10519553207004628 \\\\\n",
      " (x2,6) &  0.23609960614360798 &  0.19958702318968735 \\\\\n",
      " (x2,7) &  0.055953759631263526 &  0.03827452220629246 \\\\\n",
      " (x2,8) &  0.4301569161309807 &  0.18905266854301617 \\\\\n"
     ]
    }
   ],
   "source": [
    "## Information Gain ratio exercise\n",
    "features, information_gain, info_gain_ratio=get_information_gain_ratio(druns_data, debug=True)\n",
    "print(information_gain, info_gain_ratio)\n",
    "for k in features.keys():\n",
    "    for v, info_gain, ratio in zip(features[k], information_gain[k], info_gain_ratio[k]):\n",
    "        print(f' (x{k+1},{v}) &  {info_gain} &  {ratio} \\\\\\\\')\n",
    "    "
   ]
  },
  {
   "cell_type": "code",
   "execution_count": 329,
   "metadata": {},
   "outputs": [],
   "source": [
    "def get_max_info_gain_feature_thresh(data):\n",
    "    info_gain_details = get_information_gain_ratio(data)\n",
    "    #Compare different features\n",
    "    feature_thresh, info_gain_ratio = info_gain_details[0], info_gain_details[2]\n",
    "    (choose_feature, max_info_gain) = sorted([(k, max(v)) for k,v in info_gain_ratio.items()], \n",
    "                           key= lambda x: (x[1], x[0]), reverse=True)[0]\n",
    "\n",
    "    #Choose the maximum info_gain_ratio candidate\n",
    "    for index in range(len(info_gain_ratio[choose_feature])):\n",
    "        if info_gain_ratio[choose_feature][index] == max_info_gain:\n",
    "            choose_thresh = feature_thresh[choose_feature][index]\n",
    "    return choose_feature, choose_thresh, max_info_gain"
   ]
  },
  {
   "cell_type": "code",
   "execution_count": 564,
   "metadata": {},
   "outputs": [],
   "source": [
    "class TreeNode:\n",
    "    def __init__(self, node_id):\n",
    "        self.node_id = node_id\n",
    "        self.feature = None\n",
    "        self.thresh = None\n",
    "        self.left = None\n",
    "        self.right = None\n",
    "        self.label = None\n",
    "        self.predicate = None\n",
    "        self.interpretation = defaultdict(list)\n",
    "        \n",
    "    def add_leaf(self, label):\n",
    "        self.label = label\n",
    "\n",
    "    def add_node(self, feature, thresh, left, right):\n",
    "        self.feature = feature\n",
    "        self.thresh = thresh\n",
    "        self.left = left\n",
    "        self.right = right\n",
    "    \n",
    "    def predict(self, data_point):\n",
    "        if self.left == None and self.right == None:\n",
    "            return self.label\n",
    "        if data_point[self.feature] >= self.thresh:\n",
    "            return self.left.predict(data_point)\n",
    "        else:\n",
    "            return self.right.predict(data_point)\n",
    "    \n",
    "    def generate_predicates(self):\n",
    "        if self.predicate != None:\n",
    "            return\n",
    "        if self.right == None and self.left == None:\n",
    "            self.predicate = f\" => {self.label}\"\n",
    "            return\n",
    "        self.predicate = f'x{self.feature+1} >= {self.thresh}'\n",
    "        \n",
    "        if self.right != None:\n",
    "            self.right.generate_predicates()\n",
    "        \n",
    "        if self.left != None:\n",
    "            self.left.generate_predicates()\n",
    "    \n",
    "    def print_node(self):\n",
    "        node_info = f\"node id: {self.node_id} &\"\n",
    "        \n",
    "        if self.right == None and self.left == None:\n",
    "            node_info += f\" is leaf: True & label:{self.label}\\\\\\\\\"\n",
    "        elif self.right == None:\n",
    "            node_info += f\" feature: x{self.feature+1} >= {self.thresh}\"\n",
    "            node_info += f\"& left: {self.left.node_id} right: None\\\\\\\\\"\n",
    "        elif self.left == None:\n",
    "            node_info += f\" feature: x{self.feature+1} >= {self.thresh}\"\n",
    "            node_info += f\"& left: None right: {self.right.node_id}\\\\\\\\\"\n",
    "        else:\n",
    "            node_info += f\" feature: x{self.feature+1} >= {self.thresh}\"\n",
    "            node_info += f\"& left: {self.left.node_id} right: {self.right.node_id}\\\\\\\\\"\n",
    "        \n",
    "        print(node_info)\n",
    "        if self.left != None:\n",
    "            self.left.print_node()\n",
    "        if self.right != None:\n",
    "            self.right.print_node()\n",
    "        "
   ]
  },
  {
   "cell_type": "code",
   "execution_count": 565,
   "metadata": {},
   "outputs": [],
   "source": [
    "def decision_tree_builder(data, node_id=\"0\"):\n",
    "\n",
    "    ## checks for empty node and all labels being equal\n",
    "    termination = check_termination(data)\n",
    "    if termination[0] == True:\n",
    "        node = TreeNode(node_id)\n",
    "        node.add_leaf(termination[1])\n",
    "        return node\n",
    "    \n",
    "    feature, thresh, max_info_gain = get_max_info_gain_feature_thresh(data)\n",
    "    \n",
    "    ## If no majority class then y will predict 1\n",
    "    if max_info_gain==0:\n",
    "        label_col = list(data.columns)[-1]\n",
    "        labels = list(data[label_col])\n",
    "        label = 0\n",
    "        if sum(labels) >= len(labels)/2:\n",
    "            label = 1\n",
    "        node = TreeNode(node_id)\n",
    "        node.add_leaf(label)\n",
    "        return node\n",
    "\n",
    "    data_split_less = data[data[feature] < thresh]\n",
    "    data_split_more = data[data[feature] >= thresh]\n",
    "    \n",
    "    right = decision_tree_builder(data_split_less, node_id+\"0\")\n",
    "    left = decision_tree_builder(data_split_more, node_id+\"1\")\n",
    "    \n",
    "    if left.feature == None and left.label == None:\n",
    "        left = None\n",
    "        \n",
    "    if right.feature == None and right.label == None:\n",
    "        right = None\n",
    "\n",
    "    node = TreeNode(node_id)\n",
    "    node.add_node(feature, thresh, left, right)\n",
    "    return node\n"
   ]
  },
  {
   "cell_type": "code",
   "execution_count": 566,
   "metadata": {},
   "outputs": [],
   "source": [
    "def get_all_leaves(n, leaves=[]):\n",
    "    if n.left == None and n.right == None:\n",
    "        leaves.append(n.node_id)\n",
    "        return leaves\n",
    "    if n.left != None:\n",
    "        leaves = get_all_leaves(n.left, leaves)\n",
    "    if n.right != None:\n",
    "        leaves = get_all_leaves(n.right, leaves)\n",
    "    return leaves\n",
    "    "
   ]
  },
  {
   "cell_type": "code",
   "execution_count": 567,
   "metadata": {},
   "outputs": [],
   "source": [
    "def get_nodes_info(n, depth=0, total_nodes=0):\n",
    "    if n.left == None and n.right == None:\n",
    "        return depth, total_nodes+1\n",
    "    if n.left != None:\n",
    "        depth_left, total_nodes = get_nodes_info(n.left, depth+1, total_nodes+1)\n",
    "    if n.right != None:\n",
    "        depth_right, total_nodes = get_nodes_info(n.right, depth+1, total_nodes+1)\n",
    "    return max(depth_left, depth_right), total_nodes      "
   ]
  },
  {
   "cell_type": "code",
   "execution_count": 568,
   "metadata": {},
   "outputs": [],
   "source": [
    "def get_all_predicates(n, predicates = defaultdict(list)):\n",
    "    if n.left == None and n.right == None:\n",
    "        predicates[n.node_id].append(n.predicate)\n",
    "        return predicates\n",
    "    if not(n.left == None and n.right == None):\n",
    "        predicates[n.node_id].append(n.predicate)\n",
    "    if n.left != None:\n",
    "        predicates = get_all_predicates(n.left, predicates)\n",
    "    if n.right != None:\n",
    "        predicates = get_all_predicates(n.right, predicates)\n",
    "    return predicates               "
   ]
  },
  {
   "cell_type": "code",
   "execution_count": 583,
   "metadata": {},
   "outputs": [],
   "source": [
    "def get_interpretation(n):\n",
    "    n.generate_predicates()\n",
    "    leaves = get_all_leaves(n, [])\n",
    "    predicate_list = get_all_predicates(n, defaultdict(list))\n",
    "    interpretations = []\n",
    "    for leaf in leaves:\n",
    "        interpretation = \"\"\n",
    "        for index in range(0, len(leaf)-1):\n",
    "            if leaf[index+1] == \"1\":\n",
    "                interpretation += \"AND \" + predicate_list[leaf[:index+1]][0] + \" \"\n",
    "            if leaf[index+1] == \"0\":\n",
    "                interpretation += \"AND (NOT \" + predicate_list[leaf[:index+1]][0] + \") \"\n",
    "        interpretation += predicate_list[leaf][0]\n",
    "        interpretations.append(interpretation[4:])\n",
    "    return interpretations       \n",
    "        \n",
    "        "
   ]
  },
  {
   "cell_type": "code",
   "execution_count": 584,
   "metadata": {},
   "outputs": [],
   "source": [
    "def plot_decision_boundary(data, predicates, xrange=[-2,2], title=\"Plot fig\"):\n",
    "    all_predicates = np.array([v for k,v in predicates.items()]).flatten()\n",
    "    plot_predicates = {'x1':[], 'x2':[]}\n",
    "    for predicate in all_predicates:\n",
    "        if '=>' in predicate:\n",
    "            continue\n",
    "        if 'x1' in predicate:\n",
    "            plot_predicates['x1'].append(predicate)\n",
    "        if 'x2' in predicate:\n",
    "            plot_predicates['x2'].append(predicate)\n",
    "    # print(plot_predicates)\n",
    "    for predicate in plot_predicates['x2']:\n",
    "        thresh = float(predicate.split(\">=\")[-1])\n",
    "        plt.plot([x for x in range(xrange[0],xrange[1])], \n",
    "                 [thresh for x in range(xrange[0],xrange[1])], color='g')\n",
    "\n",
    "    for predicate in plot_predicates['x1']:\n",
    "        thresh = float(predicate.split(\">=\")[-1])\n",
    "        plt.plot([thresh for x in range(xrange[0],xrange[1])],\n",
    "                 [x for x in range(xrange[0],xrange[1])], color='g')\n",
    "        \n",
    "    plt.scatter(data[data[2]==1][0], data[data[2]==1][1], color='red', label='1')\n",
    "    plt.scatter(data[data[2]==0][0], data[data[2]==0][1], color='blue', label='0')\n",
    "    plt.legend()\n",
    "    plt.savefig(f\"{title}.pdf\")\n",
    "    plt.close()"
   ]
  },
  {
   "cell_type": "code",
   "execution_count": 585,
   "metadata": {},
   "outputs": [
    {
     "name": "stdout",
     "output_type": "stream",
     "text": [
      "node id: 0 & feature: x2 >= 6& left: 01 right: 00\\\\\n",
      "node id: 01 & feature: x2 >= 8& left: 011 right: 010\\\\\n",
      "node id: 011 & is leaf: True & label:1\\\\\n",
      "node id: 010 & feature: x2 >= 7& left: 0101 right: 0100\\\\\n",
      "node id: 0101 & is leaf: True & label:0\\\\\n",
      "node id: 0100 & is leaf: True & label:1\\\\\n",
      "node id: 00 & feature: x2 >= 0& left: 001 right: 000\\\\\n",
      "node id: 001 & is leaf: True & label:0\\\\\n",
      "node id: 000 & feature: x2 >= -1& left: 0001 right: 0000\\\\\n",
      "node id: 0001 & is leaf: True & label:1\\\\\n",
      "node id: 0000 & is leaf: True & label:0\\\\\n"
     ]
    },
    {
     "data": {
      "text/plain": [
       "['x2 >= 6 AND x2 >= 8  => 1',\n",
       " 'x2 >= 6 AND (NOT x2 >= 8) AND x2 >= 7  => 0',\n",
       " 'x2 >= 6 AND (NOT x2 >= 8) AND (NOT x2 >= 7)  => 1',\n",
       " '(NOT x2 >= 6) AND x2 >= 0  => 0',\n",
       " '(NOT x2 >= 6) AND (NOT x2 >= 0) AND x2 >= -1  => 1',\n",
       " '(NOT x2 >= 6) AND (NOT x2 >= 0) AND (NOT x2 >= -1)  => 0']"
      ]
     },
     "execution_count": 585,
     "metadata": {},
     "output_type": "execute_result"
    }
   ],
   "source": [
    "\n",
    "n = decision_tree_builder(druns_data)\n",
    "n.print_node()\n",
    "get_interpretation(n)"
   ]
  },
  {
   "cell_type": "code",
   "execution_count": 586,
   "metadata": {},
   "outputs": [
    {
     "name": "stdout",
     "output_type": "stream",
     "text": [
      "node id: 0 & feature: x2 >= 2& left: 01 right: 00\\\\\n",
      "node id: 01 & is leaf: True & label:1\\\\\n",
      "node id: 00 & feature: x1 >= 10& left: 001 right: 000\\\\\n",
      "node id: 001 & is leaf: True & label:1\\\\\n",
      "node id: 000 & is leaf: True & label:0\\\\\n"
     ]
    },
    {
     "data": {
      "text/plain": [
       "['x2 >= 2  => 1',\n",
       " '(NOT x2 >= 2) AND x1 >= 10  => 1',\n",
       " '(NOT x2 >= 2) AND (NOT x1 >= 10)  => 0']"
      ]
     },
     "execution_count": 586,
     "metadata": {},
     "output_type": "execute_result"
    }
   ],
   "source": [
    "dleaves = read_data(\"D3leaves.txt\")\n",
    "n = decision_tree_builder(dleaves)\n",
    "n.print_node()\n",
    "get_interpretation(n)"
   ]
  },
  {
   "cell_type": "code",
   "execution_count": 587,
   "metadata": {},
   "outputs": [
    {
     "name": "stdout",
     "output_type": "stream",
     "text": [
      "node id: 0 & feature: x2 >= 0.201829& left: 01 right: 00\\\\\n",
      "node id: 01 & is leaf: True & label:1\\\\\n",
      "node id: 00 & is leaf: True & label:0\\\\\n"
     ]
    }
   ],
   "source": [
    "n_d1 = decision_tree_builder(d1_data)\n",
    "n_d1.print_node()\n",
    "get_interpretation(n_d1)\n",
    "plot_decision_boundary(d1_data, get_all_predicates(n_d1, defaultdict(list)), xrange=[0,2], title=\"d1_data\")"
   ]
  },
  {
   "cell_type": "code",
   "execution_count": 591,
   "metadata": {},
   "outputs": [
    {
     "name": "stdout",
     "output_type": "stream",
     "text": [
      "node id: 0 & feature: x1 >= 0.533076& left: 01 right: 00\\\\\n",
      "node id: 01 & feature: x2 >= 0.383738& left: 011 right: 010\\\\\n",
      "node id: 011 & feature: x1 >= 0.550364& left: 0111 right: 0110\\\\\n",
      "node id: 0111 & is leaf: True & label:1\\\\\n",
      "node id: 0110 & feature: x2 >= 0.474971& left: 01101 right: 01100\\\\\n",
      "node id: 01101 & is leaf: True & label:1\\\\\n",
      "node id: 01100 & is leaf: True & label:0\\\\\n",
      "node id: 010 & feature: x1 >= 0.761423& left: 0101 right: 0100\\\\\n",
      "node id: 0101 & feature: x2 >= 0.191206& left: 01011 right: 01010\\\\\n",
      "node id: 01011 & is leaf: True & label:1\\\\\n",
      "node id: 01010 & feature: x1 >= 0.90482& left: 010101 right: 010100\\\\\n",
      "node id: 010101 & feature: x2 >= 0.037708& left: 0101011 right: 0101010\\\\\n",
      "node id: 0101011 & feature: x2 >= 0.061886& left: 01010111 right: 01010110\\\\\n",
      "node id: 01010111 & is leaf: True & label:1\\\\\n",
      "node id: 01010110 & feature: x2 >= 0.053702& left: 010101101 right: 010101100\\\\\n",
      "node id: 010101101 & is leaf: True & label:0\\\\\n",
      "node id: 010101100 & is leaf: True & label:1\\\\\n",
      "node id: 0101010 & is leaf: True & label:0\\\\\n",
      "node id: 010100 & feature: x2 >= 0.169053& left: 0101001 right: 0101000\\\\\n",
      "node id: 0101001 & feature: x2 >= 0.190692& left: 01010011 right: 01010010\\\\\n",
      "node id: 01010011 & is leaf: True & label:0\\\\\n",
      "node id: 01010010 & is leaf: True & label:1\\\\\n",
      "node id: 0101000 & is leaf: True & label:0\\\\\n",
      "node id: 0100 & feature: x2 >= 0.301105& left: 01001 right: 01000\\\\\n",
      "node id: 01001 & feature: x1 >= 0.66337& left: 010011 right: 010010\\\\\n",
      "node id: 010011 & is leaf: True & label:1\\\\\n",
      "node id: 010010 & is leaf: True & label:0\\\\\n",
      "node id: 01000 & is leaf: True & label:0\\\\\n",
      "node id: 00 & feature: x2 >= 0.639018& left: 001 right: 000\\\\\n",
      "node id: 001 & feature: x1 >= 0.111076& left: 0011 right: 0010\\\\\n",
      "node id: 0011 & feature: x2 >= 0.861& left: 00111 right: 00110\\\\\n",
      "node id: 00111 & is leaf: True & label:1\\\\\n",
      "node id: 00110 & feature: x1 >= 0.33046& left: 001101 right: 001100\\\\\n",
      "node id: 001101 & is leaf: True & label:1\\\\\n",
      "node id: 001100 & feature: x2 >= 0.745406& left: 0011001 right: 0011000\\\\\n",
      "node id: 0011001 & feature: x1 >= 0.254049& left: 00110011 right: 00110010\\\\\n",
      "node id: 00110011 & is leaf: True & label:1\\\\\n",
      "node id: 00110010 & feature: x2 >= 0.792752& left: 001100101 right: 001100100\\\\\n",
      "node id: 001100101 & feature: x1 >= 0.191915& left: 0011001011 right: 0011001010\\\\\n",
      "node id: 0011001011 & is leaf: True & label:1\\\\\n",
      "node id: 0011001010 & is leaf: True & label:0\\\\\n",
      "node id: 001100100 & is leaf: True & label:0\\\\\n",
      "node id: 0011000 & is leaf: True & label:0\\\\\n",
      "node id: 0010 & feature: x2 >= 0.964767& left: 00101 right: 00100\\\\\n",
      "node id: 00101 & is leaf: True & label:1\\\\\n",
      "node id: 00100 & is leaf: True & label:0\\\\\n",
      "node id: 000 & feature: x2 >= 0.534979& left: 0001 right: 0000\\\\\n",
      "node id: 0001 & feature: x1 >= 0.409972& left: 00011 right: 00010\\\\\n",
      "node id: 00011 & feature: x1 >= 0.426073& left: 000111 right: 000110\\\\\n",
      "node id: 000111 & is leaf: True & label:1\\\\\n",
      "node id: 000110 & feature: x2 >= 0.597713& left: 0001101 right: 0001100\\\\\n",
      "node id: 0001101 & is leaf: True & label:1\\\\\n",
      "node id: 0001100 & is leaf: True & label:0\\\\\n",
      "node id: 00010 & is leaf: True & label:0\\\\\n",
      "node id: 0000 & is leaf: True & label:0\\\\\n"
     ]
    }
   ],
   "source": [
    "n_d2 = decision_tree_builder(d2_data)\n",
    "n_d2.print_node()\n",
    "get_interpretation(n_d2)\n",
    "plot_decision_boundary(d2_data, get_all_predicates(n_d2, defaultdict(list)), xrange=[0,2], title=\"d2_data\")"
   ]
  },
  {
   "cell_type": "code",
   "execution_count": 592,
   "metadata": {},
   "outputs": [
    {
     "data": {
      "text/plain": [
       "['x1 >= 0.533076 AND x2 >= 0.383738 AND x1 >= 0.550364  => 1',\n",
       " 'x1 >= 0.533076 AND x2 >= 0.383738 AND (NOT x1 >= 0.550364) AND x2 >= 0.474971  => 1',\n",
       " 'x1 >= 0.533076 AND x2 >= 0.383738 AND (NOT x1 >= 0.550364) AND (NOT x2 >= 0.474971)  => 0',\n",
       " 'x1 >= 0.533076 AND (NOT x2 >= 0.383738) AND x1 >= 0.761423 AND x2 >= 0.191206  => 1',\n",
       " 'x1 >= 0.533076 AND (NOT x2 >= 0.383738) AND x1 >= 0.761423 AND (NOT x2 >= 0.191206) AND x1 >= 0.90482 AND x2 >= 0.037708 AND x2 >= 0.061886  => 1',\n",
       " 'x1 >= 0.533076 AND (NOT x2 >= 0.383738) AND x1 >= 0.761423 AND (NOT x2 >= 0.191206) AND x1 >= 0.90482 AND x2 >= 0.037708 AND (NOT x2 >= 0.061886) AND x2 >= 0.053702  => 0',\n",
       " 'x1 >= 0.533076 AND (NOT x2 >= 0.383738) AND x1 >= 0.761423 AND (NOT x2 >= 0.191206) AND x1 >= 0.90482 AND x2 >= 0.037708 AND (NOT x2 >= 0.061886) AND (NOT x2 >= 0.053702)  => 1',\n",
       " 'x1 >= 0.533076 AND (NOT x2 >= 0.383738) AND x1 >= 0.761423 AND (NOT x2 >= 0.191206) AND x1 >= 0.90482 AND (NOT x2 >= 0.037708)  => 0',\n",
       " 'x1 >= 0.533076 AND (NOT x2 >= 0.383738) AND x1 >= 0.761423 AND (NOT x2 >= 0.191206) AND (NOT x1 >= 0.90482) AND x2 >= 0.169053 AND x2 >= 0.190692  => 0',\n",
       " 'x1 >= 0.533076 AND (NOT x2 >= 0.383738) AND x1 >= 0.761423 AND (NOT x2 >= 0.191206) AND (NOT x1 >= 0.90482) AND x2 >= 0.169053 AND (NOT x2 >= 0.190692)  => 1',\n",
       " 'x1 >= 0.533076 AND (NOT x2 >= 0.383738) AND x1 >= 0.761423 AND (NOT x2 >= 0.191206) AND (NOT x1 >= 0.90482) AND (NOT x2 >= 0.169053)  => 0',\n",
       " 'x1 >= 0.533076 AND (NOT x2 >= 0.383738) AND (NOT x1 >= 0.761423) AND x2 >= 0.301105 AND x1 >= 0.66337  => 1',\n",
       " 'x1 >= 0.533076 AND (NOT x2 >= 0.383738) AND (NOT x1 >= 0.761423) AND x2 >= 0.301105 AND (NOT x1 >= 0.66337)  => 0',\n",
       " 'x1 >= 0.533076 AND (NOT x2 >= 0.383738) AND (NOT x1 >= 0.761423) AND (NOT x2 >= 0.301105)  => 0',\n",
       " '(NOT x1 >= 0.533076) AND x2 >= 0.639018 AND x1 >= 0.111076 AND x2 >= 0.861  => 1',\n",
       " '(NOT x1 >= 0.533076) AND x2 >= 0.639018 AND x1 >= 0.111076 AND (NOT x2 >= 0.861) AND x1 >= 0.33046  => 1',\n",
       " '(NOT x1 >= 0.533076) AND x2 >= 0.639018 AND x1 >= 0.111076 AND (NOT x2 >= 0.861) AND (NOT x1 >= 0.33046) AND x2 >= 0.745406 AND x1 >= 0.254049  => 1',\n",
       " '(NOT x1 >= 0.533076) AND x2 >= 0.639018 AND x1 >= 0.111076 AND (NOT x2 >= 0.861) AND (NOT x1 >= 0.33046) AND x2 >= 0.745406 AND (NOT x1 >= 0.254049) AND x2 >= 0.792752 AND x1 >= 0.191915  => 1',\n",
       " '(NOT x1 >= 0.533076) AND x2 >= 0.639018 AND x1 >= 0.111076 AND (NOT x2 >= 0.861) AND (NOT x1 >= 0.33046) AND x2 >= 0.745406 AND (NOT x1 >= 0.254049) AND x2 >= 0.792752 AND (NOT x1 >= 0.191915)  => 0',\n",
       " '(NOT x1 >= 0.533076) AND x2 >= 0.639018 AND x1 >= 0.111076 AND (NOT x2 >= 0.861) AND (NOT x1 >= 0.33046) AND x2 >= 0.745406 AND (NOT x1 >= 0.254049) AND (NOT x2 >= 0.792752)  => 0',\n",
       " '(NOT x1 >= 0.533076) AND x2 >= 0.639018 AND x1 >= 0.111076 AND (NOT x2 >= 0.861) AND (NOT x1 >= 0.33046) AND (NOT x2 >= 0.745406)  => 0',\n",
       " '(NOT x1 >= 0.533076) AND x2 >= 0.639018 AND (NOT x1 >= 0.111076) AND x2 >= 0.964767  => 1',\n",
       " '(NOT x1 >= 0.533076) AND x2 >= 0.639018 AND (NOT x1 >= 0.111076) AND (NOT x2 >= 0.964767)  => 0',\n",
       " '(NOT x1 >= 0.533076) AND (NOT x2 >= 0.639018) AND x2 >= 0.534979 AND x1 >= 0.409972 AND x1 >= 0.426073  => 1',\n",
       " '(NOT x1 >= 0.533076) AND (NOT x2 >= 0.639018) AND x2 >= 0.534979 AND x1 >= 0.409972 AND (NOT x1 >= 0.426073) AND x2 >= 0.597713  => 1',\n",
       " '(NOT x1 >= 0.533076) AND (NOT x2 >= 0.639018) AND x2 >= 0.534979 AND x1 >= 0.409972 AND (NOT x1 >= 0.426073) AND (NOT x2 >= 0.597713)  => 0',\n",
       " '(NOT x1 >= 0.533076) AND (NOT x2 >= 0.639018) AND x2 >= 0.534979 AND (NOT x1 >= 0.409972)  => 0',\n",
       " '(NOT x1 >= 0.533076) AND (NOT x2 >= 0.639018) AND (NOT x2 >= 0.534979)  => 0']"
      ]
     },
     "execution_count": 592,
     "metadata": {},
     "output_type": "execute_result"
    }
   ],
   "source": [
    "get_interpretation(n_d2)"
   ]
  },
  {
   "cell_type": "code",
   "execution_count": 431,
   "metadata": {},
   "outputs": [
    {
     "data": {
      "text/plain": [
       "<matplotlib.legend.Legend at 0x295b707d0>"
      ]
     },
     "execution_count": 431,
     "metadata": {},
     "output_type": "execute_result"
    },
    {
     "data": {
      "image/png": "[encoded data removed]",
      "text/plain": [
       "<Figure size 640x480 with 1 Axes>"
      ]
     },
     "metadata": {},
     "output_type": "display_data"
    }
   ],
   "source": [
    "plt.scatter(d1_data[d1_data[2]==0][0], d1_data[d1_data[2]==0][1], color='red', label='0')\n",
    "plt.scatter(d1_data[d1_data[2]==1][0], d1_data[d1_data[2]==1][1], color='blue', label='1')\n",
    "plt.legend()"
   ]
  },
  {
   "cell_type": "code",
   "execution_count": 432,
   "metadata": {},
   "outputs": [
    {
     "data": {
      "text/plain": [
       "<matplotlib.legend.Legend at 0x295b39c50>"
      ]
     },
     "execution_count": 432,
     "metadata": {},
     "output_type": "execute_result"
    },
    {
     "data": {
      "image/png": "[encoded data removed]",
      "text/plain": [
       "<Figure size 640x480 with 1 Axes>"
      ]
     },
     "metadata": {},
     "output_type": "display_data"
    }
   ],
   "source": [
    "plt.scatter(d2_data[d2_data[2]==0][0], d2_data[d2_data[2]==0][1], color='red', label='0')\n",
    "plt.scatter(d2_data[d2_data[2]==1][0], d2_data[d2_data[2]==1][1], color='blue', label='1')\n",
    "plt.legend()"
   ]
  },
  {
   "cell_type": "code",
   "execution_count": 596,
   "metadata": {},
   "outputs": [
    {
     "name": "stdout",
     "output_type": "stream",
     "text": [
      "32 \\& 5 \\& 16 \\& 0.2081661316211878\\\\\n",
      "128 \\& 7 \\& 28 \\& 0.08731766612641816\\\\\n",
      "512 \\& 9 \\& 64 \\& 0.059232715008431705\\\\\n",
      "2048 \\& 12 \\& 124 \\& 0.023893360160965795\\\\\n",
      "8192 \\& 16 \\& 346 \\& 0.012168141592920354\\\\\n"
     ]
    }
   ],
   "source": [
    "from sklearn.utils import shuffle\n",
    "dbig_data_shuffled = shuffle(dbig_data)\n",
    "\n",
    "errors = []\n",
    "for train_size in [32,128,512,2048,8192]:\n",
    "    data = dbig_data_shuffled.iloc[:train_size, :]\n",
    "    test = dbig_data_shuffled.iloc[train_size:,:]\n",
    "    DT_clf = decision_tree_builder(data)\n",
    "    DT_clf.generate_predicates()\n",
    "    plot_decision_boundary(data, get_all_predicates(DT_clf, defaultdict(list)),\n",
    "                           xrange=[-2,3], title=f\"Dbig_{train_size}\")\n",
    "    \n",
    "    node_info = get_nodes_info(DT_clf)\n",
    "    leaves = get_all_leaves(DT_clf, [])\n",
    "    predicted_labels = []\n",
    "    for data_point in zip(test[0], test[1]):\n",
    "        predicted_labels.append(DT_clf.predict(data_point))\n",
    "    correct_labels = test[2]\n",
    "    \n",
    "    count = 0\n",
    "    for predict, correct in zip(predicted_labels, correct_labels):\n",
    "        if predict != correct:\n",
    "            count +=1\n",
    "    error = count/(len(predicted_labels))\n",
    "    # print(f'n(Train set size): {train_size}, Number of leaves: {len(leaves)}, \\\n",
    "    #     Number of Nodes: {node_info},  err_n (Error for D_n): {error}')\n",
    "    print(f'{train_size} \\& {node_info[0]} \\& {node_info[1]} \\& {error}\\\\\\\\')\n",
    "    errors.append(error)\n",
    "    \n",
    "plt.plot([32,128,512,2048,8192], errors)\n",
    "plt.xlabel('training set size')\n",
    "plt.ylabel('mis-classification error')\n",
    "plt.title(r\"n vs $err_n$\")\n",
    "plt.savefig(\"n_vs_err_n.pdf\")\n",
    "plt.close()"
   ]
  },
  {
   "cell_type": "code",
   "execution_count": 597,
   "metadata": {},
   "outputs": [
    {
     "name": "stdout",
     "output_type": "stream",
     "text": [
      "32 \\&  5 \\& 6 \\& 0.1688402889245586\\\\\n",
      "128 \\&  7 \\& 11 \\& 0.08822933549432743\\\\\n",
      "512 \\&  9 \\& 24 \\& 0.049430860033726765\\\\\n",
      "2048 \\&  13 \\& 62 \\& 0.03005533199195176\\\\\n",
      "8192 \\&  13 \\& 121 \\& 0.011061946902654829\\\\\n"
     ]
    }
   ],
   "source": [
    "from sklearn.tree import DecisionTreeClassifier\n",
    "from sklearn import tree\n",
    "\n",
    "errors = []\n",
    "for train_size in [32,128,512,2048,8192]:\n",
    "    data = dbig_data_shuffled.iloc[:train_size, :]\n",
    "    test = dbig_data_shuffled.iloc[train_size:,:]\n",
    "    DT_clf = DecisionTreeClassifier()\n",
    "    DT_clf.fit(data[[0,1]], data[2])\n",
    "    depth = DT_clf.get_depth()\n",
    "    leaves = DT_clf.get_n_leaves()\n",
    "    params = DT_clf.get_params()\n",
    "    \n",
    "    score = DT_clf.score(test[[0,1]], test[2])\n",
    "    # print(depth, leaves, 1-score)\n",
    "    print(f'{train_size} \\&  {depth} \\& {leaves} \\& {1-score}\\\\\\\\')\n",
    "    errors.append(1-score)\n",
    "\n",
    "plt.plot([32,128,512,2048,8192], errors)\n",
    "plt.xlabel('training set size')\n",
    "plt.ylabel('mis-classification error')\n",
    "plt.title(r\"n vs $err_n$\")\n",
    "plt.savefig(\"n_vs_err_n_scipy.pdf\")\n",
    "plt.close()"
   ]
  },
  {
   "cell_type": "code",
   "execution_count": 539,
   "metadata": {},
   "outputs": [],
   "source": [
    "#For Lagrange interpolation problem; considering a = 0, b=1\n",
    "\n",
    "X = np.random.uniform(0,1, 100)\n",
    "Y = [np.sin(x) for x in X]"
   ]
  },
  {
   "cell_type": "code",
   "execution_count": 540,
   "metadata": {},
   "outputs": [],
   "source": [
    "X_test = np.random.uniform(0,1, 100)\n",
    "Y_test = [np.sin(x) for x in X_test]"
   ]
  },
  {
   "cell_type": "code",
   "execution_count": 541,
   "metadata": {},
   "outputs": [],
   "source": [
    "def lagrange_poly(x,X,Y):\n",
    "    vals = []\n",
    "    for index in range(len(X)):\n",
    "        vals.append(Y[index]*np.prod([(x-X[ind])/(X[index]-X[ind]) \n",
    "                        if ind != index else 1 for ind in range(len(X))]))\n",
    "    return np.sum(vals)\n",
    "        "
   ]
  },
  {
   "cell_type": "code",
   "execution_count": 545,
   "metadata": {},
   "outputs": [
    {
     "data": {
      "text/plain": [
       "0.0"
      ]
     },
     "execution_count": 545,
     "metadata": {},
     "output_type": "execute_result"
    }
   ],
   "source": [
    "y_predict_train = [lagrange_poly(x,X,Y) for x in X]\n",
    "error_on_train = np.mean(np.abs(np.array(y_predict_train) - np.array(Y))**2)\n",
    "error_on_train\n",
    "## As the model overfits because of the definition of Lagrangian Polyinomial, the error on the training set will be zero"
   ]
  },
  {
   "cell_type": "code",
   "execution_count": 543,
   "metadata": {},
   "outputs": [
    {
     "data": {
      "text/plain": [
       "44.67538491244841"
      ]
     },
     "execution_count": 543,
     "metadata": {},
     "output_type": "execute_result"
    }
   ],
   "source": [
    "y_predict_test = [lagrange_poly(x,X,Y) for x in X_test]\n",
    "error_on_test = np.log(np.mean(np.abs(np.array(y_predict_test) - np.array(Y_test))**2))\n",
    "error_on_test\n",
    "## This is a log error; probable cause of overfitting on train data, it is unable to perform good on test data"
   ]
  },
  {
   "cell_type": "code",
   "execution_count": 546,
   "metadata": {},
   "outputs": [],
   "source": [
    "## code for the addition of Gaussian Noise to the training samples and rechecking\n",
    "deviations = np.linspace(0,1,100)\n",
    "test_errors = []\n",
    "train_errors = []\n",
    "train_rev_errors = []\n",
    "for deviation in deviations:\n",
    "    X_train = np.random.uniform(0,1, 100) + np.random.normal(0, deviation, 100)\n",
    "    Y_train = [np.sin(x) for x in X_test]\n",
    "    \n",
    "    y_predict_train = [lagrange_poly(x,X,Y) for x in X_train]\n",
    "    error = np.log(np.mean(np.abs(np.array(y_predict_train) - np.array(Y_train))**2))\n",
    "    train_errors.append(error)\n",
    "    \n",
    "    y_predict_train = [lagrange_poly(x,X_train,Y_train) for x in X]\n",
    "    error = np.log(np.mean(np.abs(np.array(y_predict_train) - np.array(Y))**2))\n",
    "    train_rev_errors.append(error)\n",
    "    \n",
    "    y_predict = [lagrange_poly(x,X_train,Y_train) for x in X_test]\n",
    "    error = np.log(np.mean(np.abs(np.array(y_predict) - np.array(Y_test))**2))\n",
    "    test_errors.append(error)\n"
   ]
  },
  {
   "cell_type": "code",
   "execution_count": 547,
   "metadata": {},
   "outputs": [],
   "source": [
    "plt.plot(deviations, train_errors)\n",
    "plt.xlabel(r\"standard deviation for Gaussian Noise\")\n",
    "plt.ylabel(\"log(MSE error)\")\n",
    "plt.title(\"Training with uniform and training error on Gaussian noise added samples\")\n",
    "plt.savefig(\"train_uniform_error_GaussianNoise.pdf\")\n",
    "plt.close()\n",
    "\n",
    "plt.plot(deviations, train_rev_errors)\n",
    "plt.xlabel(r\"standard deviation for Gaussian Noise\")\n",
    "plt.ylabel(\"log(MSE error)\")\n",
    "plt.title(\"Training with Gaussian noise added samples and error on uniform samples\")\n",
    "plt.savefig(\"train_GaussianNoise_error_uniform.pdf\")\n",
    "plt.close()\n",
    "\n",
    "plt.plot(deviations, test_errors)\n",
    "plt.xlabel(r\"standard deviation for Gaussian Noise\")\n",
    "plt.ylabel(\"log(MSE error)\")\n",
    "plt.savefig(\"lagrange_GaussianNoise.pdf\")\n",
    "plt.close()"
   ]
  }
 ],
 "metadata": {
  "kernelspec": {
   "display_name": "base",
   "language": "python",
   "name": "python3"
  },
  "language_info": {
   "codemirror_mode": {
    "name": "ipython",
    "version": 3
   },
   "file_extension": ".py",
   "mimetype": "text/x-python",
   "name": "python",
   "nbconvert_exporter": "python",
   "pygments_lexer": "ipython3",
   "version": "3.11.0"
  },
  "orig_nbformat": 4
 },
 "nbformat": 4,
 "nbformat_minor": 2
}
