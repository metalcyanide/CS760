{
 "cells": [
  {
   "cell_type": "code",
   "execution_count": 26,
   "metadata": {},
   "outputs": [],
   "source": [
    "import os\n",
    "import numpy as np\n",
    "from collections import Counter, defaultdict"
   ]
  },
  {
   "cell_type": "code",
   "execution_count": 107,
   "metadata": {},
   "outputs": [],
   "source": [
    "labels = ['e', 'j', 's']\n",
    "\n",
    "path_dir = \"languageID/\"\n",
    "\n",
    "\n",
    "data = {'e':[], 'j':[], 's':[]}\n",
    "data_lines = []\n",
    "\n",
    "for label in labels:\n",
    "    for file_nums in range(10):\n",
    "        filename = label+str(file_nums)+'.txt'\n",
    "        f = open(path_dir+filename, 'r')\n",
    "        for line in f.readlines():\n",
    "            # if len(line.strip())>0:\n",
    "            data_lines.append(line.strip())\n",
    "            for char in line.strip():\n",
    "                data[label].append(char)\n",
    "            \n"
   ]
  },
  {
   "cell_type": "code",
   "execution_count": 108,
   "metadata": {},
   "outputs": [
    {
     "name": "stdout",
     "output_type": "stream",
     "text": [
      "Counter({' ': 2694, 'e': 1594, 't': 1212, 's': 1001, 'o': 975, 'a': 910, 'n': 876, 'i': 838, 'r': 814, 'h': 714, 'l': 438, 'u': 403, 'd': 332, 'c': 325, 'm': 310, 'f': 286, 'g': 264, 'p': 253, 'w': 234, 'y': 209, 'b': 168, 'v': 140, 'k': 56, 'j': 21, 'x': 17, 'z': 9, 'q': 8})\n",
      "[' ', 'a', 'b', 'c', 'd', 'e', 'f', 'g', 'h', 'i', 'j', 'k', 'l', 'm', 'n', 'o', 'p', 'q', 'r', 's', 't', 'u', 'v', 'w', 'x', 'y', 'z']\n",
      "label: e counts: 27\n",
      "Counter({'a': 1885, ' ': 1509, 'i': 1388, 'o': 1304, 'u': 1010, 'e': 861, 'k': 821, 't': 815, 'n': 811, 'r': 612, 's': 603, 'm': 569, 'h': 454, 'w': 282, 'd': 246, 'y': 202, 'g': 200, 'b': 155, 'z': 110, 'c': 78, 'f': 55, 'j': 33, 'l': 20, 'p': 12, 'v': 3, 'q': 1})\n",
      "[' ', 'a', 'b', 'c', 'd', 'e', 'f', 'g', 'h', 'i', 'j', 'k', 'l', 'm', 'n', 'o', 'p', 'q', 'r', 's', 't', 'u', 'v', 'w', 'y', 'z']\n",
      "label: j counts: 26\n",
      "Counter({' ': 2686, 'e': 1845, 'a': 1695, 'o': 1175, 's': 1066, 'r': 961, 'n': 878, 'l': 858, 'i': 808, 'd': 644, 'c': 608, 't': 577, 'u': 546, 'm': 418, 'p': 393, 'f': 139, 'b': 133, 'y': 127, 'q': 124, 'g': 116, 'j': 107, 'v': 95, 'h': 73, 'z': 43, 'x': 40, 'k': 4, 'w': 1})\n",
      "[' ', 'a', 'b', 'c', 'd', 'e', 'f', 'g', 'h', 'i', 'j', 'k', 'l', 'm', 'n', 'o', 'p', 'q', 'r', 's', 't', 'u', 'v', 'w', 'x', 'y', 'z']\n",
      "label: s counts: 27\n"
     ]
    }
   ],
   "source": [
    "counts_data = {}\n",
    "for label in labels:\n",
    "    counts = Counter(data[label])\n",
    "    counts_data[label] = counts\n",
    "    print(counts)\n",
    "    print(sorted(list(counts.keys())))\n",
    "    print(f'label: {label} counts: {len(counts)}')\n",
    "    \n",
    "vocab = sorted(list(Counter(data['s']).keys()))"
   ]
  },
  {
   "cell_type": "code",
   "execution_count": 127,
   "metadata": {},
   "outputs": [
    {
     "data": {
      "text/plain": [
       "defaultdict(dict,\n",
       "            {' ': {'e': 0.3910456425513388,\n",
       "              'j': 0.21906973369131413,\n",
       "              's': 0.38988462375734706},\n",
       "             'a': {'e': 0.20271624179004788,\n",
       "              'j': 0.41979294222420127,\n",
       "              's': 0.37749081598575085},\n",
       "             'b': {'e': 0.36830601092896176,\n",
       "              'j': 0.33989071038251367,\n",
       "              's': 0.29180327868852457},\n",
       "             'c': {'e': 0.3214814814814815,\n",
       "              'j': 0.07753086419753086,\n",
       "              's': 0.6009876543209877},\n",
       "             'd': {'e': 0.2717613404168369,\n",
       "              'j': 0.20147118921127913,\n",
       "              's': 0.526767470371884},\n",
       "             'e': {'e': 0.370684644891317,\n",
       "              'j': 0.20027897245147042,\n",
       "              's': 0.4290363826572126},\n",
       "             'f': {'e': 0.5950155763239875,\n",
       "              'j': 0.11526479750778816,\n",
       "              's': 0.2897196261682243},\n",
       "             'g': {'e': 0.4548581255374033,\n",
       "              'j': 0.3447979363714531,\n",
       "              's': 0.2003439380911436},\n",
       "             'h': {'e': 0.5750503018108651,\n",
       "              'j': 0.36579476861167004,\n",
       "              's': 0.059154929577464786},\n",
       "             'i': {'e': 0.2762312633832976,\n",
       "              'j': 0.45742052380168013,\n",
       "              's': 0.26634821281502224},\n",
       "             'j': {'e': 0.13230769230769232,\n",
       "              'j': 0.20615384615384616,\n",
       "              's': 0.6615384615384615},\n",
       "             'k': {'e': 0.06402266288951841,\n",
       "              'j': 0.9308781869688385,\n",
       "              's': 0.0050991501416430595},\n",
       "             'l': {'e': 0.33282732447817837,\n",
       "              'j': 0.01555977229601518,\n",
       "              's': 0.6516129032258065},\n",
       "             'm': {'e': 0.2391220639199076,\n",
       "              'j': 0.4385829803619561,\n",
       "              's': 0.3222949557181363},\n",
       "             'n': {'e': 0.3415156828365478,\n",
       "              'j': 0.3161893629456458,\n",
       "              's': 0.34229495421780637},\n",
       "             'o': {'e': 0.28230357401244394,\n",
       "              'j': 0.3775141079438576,\n",
       "              's': 0.3401823180436985},\n",
       "             'p': {'e': 0.3843821076573162,\n",
       "              'j': 0.018953752843062926,\n",
       "              's': 0.5966641394996209},\n",
       "             'q': {'e': 0.06319702602230483,\n",
       "              'j': 0.011152416356877323,\n",
       "              's': 0.9256505576208178},\n",
       "             'r': {'e': 0.34100900146535484,\n",
       "              'j': 0.25643709441071805,\n",
       "              's': 0.40255390412392716},\n",
       "             's': {'e': 0.374883024518061,\n",
       "              'j': 0.22590305072056896,\n",
       "              's': 0.39921392476137},\n",
       "             't': {'e': 0.4653617347917866,\n",
       "              'j': 0.31299174822490883,\n",
       "              's': 0.22164651698330454},\n",
       "             'u': {'e': 0.20581484315225707,\n",
       "              'j': 0.5154297373119102,\n",
       "              's': 0.2787554195358327},\n",
       "             'v': {'e': 0.5866388308977035,\n",
       "              'j': 0.014613778705636743,\n",
       "              's': 0.3987473903966597},\n",
       "             'w': {'e': 0.4522661523625844,\n",
       "              'j': 0.5448408871745419,\n",
       "              's': 0.0028929604628736743},\n",
       "             'x': {'e': 0.29914529914529914,\n",
       "              'j': 0.008547008547008548,\n",
       "              's': 0.6923076923076923},\n",
       "             'y': {'e': 0.38832252085264135,\n",
       "              'j': 0.3753475440222428,\n",
       "              's': 0.23632993512511585},\n",
       "             'z': {'e': 0.0581039755351682,\n",
       "              'j': 0.6758409785932722,\n",
       "              's': 0.26605504587155965}})"
      ]
     },
     "execution_count": 127,
     "metadata": {},
     "output_type": "execute_result"
    }
   ],
   "source": [
    "# vocab\n",
    "smoothing = defaultdict(dict)\n",
    "smoothing_probs = defaultdict(dict)\n",
    "sum_chars = defaultdict(dict)\n",
    "total_char = 0\n",
    "for char in vocab:\n",
    "    sum_char = 0\n",
    "    for label in labels:\n",
    "        smoothing[char][label] = (counts_data[label][char])\n",
    "        sum_char += smoothing[char][label]\n",
    "    sum_chars[char] = sum_char\n",
    "    total_char += sum_char\n",
    "    for label in labels:\n",
    "        smoothing_probs[char][label] = (counts_data[label][char]+0.5)/(sum_char + len(smoothing[char])*0.5)\n",
    "smoothing_probs\n",
    "        "
   ]
  },
  {
   "cell_type": "code",
   "execution_count": 128,
   "metadata": {},
   "outputs": [
    {
     "data": {
      "text/plain": [
       "{'e': 0.33336076023799244, 'j': 0.30994526770335445, 's': 0.3566939720586533}"
      ]
     },
     "execution_count": 128,
     "metadata": {},
     "output_type": "execute_result"
    }
   ],
   "source": [
    "## Additive smoothing\n",
    "\n",
    "## prior it will be Sum_i P(Y=y|X_i = j)\n",
    "\n",
    "priors = {}\n",
    "for label in labels:\n",
    "    priors[label] = 0\n",
    "    for char in vocab:\n",
    "        priors[label] += (sum_chars[char]/total_char)*smoothing_probs[char][label]\n",
    "        \n",
    "\n",
    "priors"
   ]
  },
  {
   "cell_type": "code",
   "execution_count": 129,
   "metadata": {},
   "outputs": [
    {
     "name": "stdout",
     "output_type": "stream",
     "text": [
      "[0.1782725197657878, 0.06024016672731483, 0.011148235138443216, 0.021535611498891792, 0.02199874292897549, 0.10549472360977868, 0.018955307816996923, 0.01749975189387674, 0.04727248668497139, 0.05547652916073969, 0.001422475106685633, 0.0037381322571041053, 0.029011876013100003, 0.020543187005855303, 0.057990671209765456, 0.06454067286380628, 0.01677197393231665, 0.0005623738793873432, 0.05388864997188131, 0.06626087531840286, 0.08022097985378279, 0.02669621886268153, 0.00929570941810844, 0.015514902907803765, 0.0011578285752092362, 0.013860862086076285, 0.0006285355122564425]\n"
     ]
    },
    {
     "data": {
      "text/plain": [
       "[0.1782725197657878,\n",
       " 0.06024016672731483,\n",
       " 0.011148235138443216,\n",
       " 0.021535611498891792,\n",
       " 0.02199874292897549,\n",
       " 0.10549472360977868,\n",
       " 0.018955307816996923,\n",
       " 0.01749975189387674,\n",
       " 0.04727248668497139,\n",
       " 0.05547652916073969,\n",
       " 0.001422475106685633,\n",
       " 0.0037381322571041053,\n",
       " 0.029011876013100003,\n",
       " 0.020543187005855303,\n",
       " 0.057990671209765456,\n",
       " 0.06454067286380628,\n",
       " 0.01677197393231665,\n",
       " 0.0005623738793873432,\n",
       " 0.05388864997188131,\n",
       " 0.06626087531840286,\n",
       " 0.08022097985378279,\n",
       " 0.02669621886268153,\n",
       " 0.00929570941810844,\n",
       " 0.015514902907803765,\n",
       " 0.0011578285752092362,\n",
       " 0.013860862086076285,\n",
       " 0.0006285355122564425]"
      ]
     },
     "execution_count": 129,
     "metadata": {},
     "output_type": "execute_result"
    }
   ],
   "source": [
    "## additive smoothing\n",
    "\n",
    "## class conditional probability theta_i,e = p(c_i | y=e) = (b_i+alpha)/(Sum_i (b_i + alpha) )\n",
    "\n",
    "label = 'e'\n",
    "cond_prob = []\n",
    "denom_cond_prob = 0\n",
    "for char in vocab:\n",
    "    denom_cond_prob += (counts_data[label][char] + 0.5)\n",
    "for char in vocab:\n",
    "    cond_prob.append((counts_data[label][char] + 0.5)/(denom_cond_prob))\n",
    "\n",
    "print(cond_prob)\n",
    "cond_prob\n",
    "    "
   ]
  },
  {
   "cell_type": "code",
   "execution_count": 130,
   "metadata": {},
   "outputs": [
    {
     "name": "stdout",
     "output_type": "stream",
     "text": [
      "e [0.178273, 0.06024, 0.011148, 0.021536, 0.021999, 0.105495, 0.018955, 0.0175, 0.047272, 0.055477, 0.001422, 0.003738, 0.029012, 0.020543, 0.057991, 0.064541, 0.016772, 0.000562, 0.053889, 0.066261, 0.080221, 0.026696, 0.009296, 0.015515, 0.001158, 0.013861, 0.000629]\n",
      "j [0.107419, 0.134175, 0.011066, 0.005586, 0.017541, 0.061306, 0.003949, 0.014268, 0.032343, 0.098808, 0.002384, 0.058459, 0.001459, 0.040527, 0.057748, 0.09283, 0.00089, 0.000107, 0.043587, 0.042946, 0.058032, 0.071909, 0.000249, 0.020103, 3.6e-05, 0.01441, 0.007863]\n",
      "s [0.166105, 0.104832, 0.008254, 0.037623, 0.039849, 0.114106, 0.008625, 0.007203, 0.004544, 0.049989, 0.006647, 0.000278, 0.053081, 0.025876, 0.054317, 0.072681, 0.02433, 0.007698, 0.059449, 0.065941, 0.035707, 0.03379, 0.005905, 9.3e-05, 0.002504, 0.007883, 0.00269]\n"
     ]
    },
    {
     "data": {
      "text/plain": [
       "defaultdict(None,\n",
       "            {'e': [0.178273,\n",
       "              0.06024,\n",
       "              0.011148,\n",
       "              0.021536,\n",
       "              0.021999,\n",
       "              0.105495,\n",
       "              0.018955,\n",
       "              0.0175,\n",
       "              0.047272,\n",
       "              0.055477,\n",
       "              0.001422,\n",
       "              0.003738,\n",
       "              0.029012,\n",
       "              0.020543,\n",
       "              0.057991,\n",
       "              0.064541,\n",
       "              0.016772,\n",
       "              0.000562,\n",
       "              0.053889,\n",
       "              0.066261,\n",
       "              0.080221,\n",
       "              0.026696,\n",
       "              0.009296,\n",
       "              0.015515,\n",
       "              0.001158,\n",
       "              0.013861,\n",
       "              0.000629],\n",
       "             'j': [0.107419,\n",
       "              0.134175,\n",
       "              0.011066,\n",
       "              0.005586,\n",
       "              0.017541,\n",
       "              0.061306,\n",
       "              0.003949,\n",
       "              0.014268,\n",
       "              0.032343,\n",
       "              0.098808,\n",
       "              0.002384,\n",
       "              0.058459,\n",
       "              0.001459,\n",
       "              0.040527,\n",
       "              0.057748,\n",
       "              0.09283,\n",
       "              0.00089,\n",
       "              0.000107,\n",
       "              0.043587,\n",
       "              0.042946,\n",
       "              0.058032,\n",
       "              0.071909,\n",
       "              0.000249,\n",
       "              0.020103,\n",
       "              3.6e-05,\n",
       "              0.01441,\n",
       "              0.007863],\n",
       "             's': [0.166105,\n",
       "              0.104832,\n",
       "              0.008254,\n",
       "              0.037623,\n",
       "              0.039849,\n",
       "              0.114106,\n",
       "              0.008625,\n",
       "              0.007203,\n",
       "              0.004544,\n",
       "              0.049989,\n",
       "              0.006647,\n",
       "              0.000278,\n",
       "              0.053081,\n",
       "              0.025876,\n",
       "              0.054317,\n",
       "              0.072681,\n",
       "              0.02433,\n",
       "              0.007698,\n",
       "              0.059449,\n",
       "              0.065941,\n",
       "              0.035707,\n",
       "              0.03379,\n",
       "              0.005905,\n",
       "              9.3e-05,\n",
       "              0.002504,\n",
       "              0.007883,\n",
       "              0.00269]})"
      ]
     },
     "execution_count": 130,
     "metadata": {},
     "output_type": "execute_result"
    }
   ],
   "source": [
    "cond_probs = defaultdict()\n",
    "for label in labels:\n",
    "    cond_prob = []\n",
    "    denom_cond_prob = 0\n",
    "    for char in vocab:\n",
    "        denom_cond_prob += (smoothing[char][label] + 0.5)\n",
    "    for char in vocab:\n",
    "        cond_prob.append(np.round((smoothing[char][label] + 0.5)/(denom_cond_prob), 6))\n",
    "    cond_probs[label] = cond_prob\n",
    "    print(label, cond_prob)\n",
    "cond_probs"
   ]
  },
  {
   "cell_type": "code",
   "execution_count": 131,
   "metadata": {},
   "outputs": [],
   "source": [
    "def get_doc_vec(filename):\n",
    "    path_dir = 'languageID/'\n",
    "    data = []\n",
    "    f = open(path_dir+filename, 'r')\n",
    "    for line in f.readlines():\n",
    "        if len(line.strip())>0:\n",
    "            for char in line.strip():\n",
    "                data.append(char)\n",
    "    counts = Counter(data)\n",
    "    doc_vec = []\n",
    "    for char in vocab:\n",
    "        doc_vec.append(counts[char])\n",
    "    return doc_vec"
   ]
  },
  {
   "cell_type": "code",
   "execution_count": 132,
   "metadata": {},
   "outputs": [
    {
     "name": "stdout",
     "output_type": "stream",
     "text": [
      "[492, 164, 32, 53, 57, 311, 55, 51, 140, 140, 3, 6, 85, 64, 139, 182, 53, 3, 141, 186, 225, 65, 31, 47, 4, 38, 2]\n"
     ]
    }
   ],
   "source": [
    "vec = get_doc_vec('e10.txt')\n",
    "print(vec)"
   ]
  },
  {
   "cell_type": "code",
   "execution_count": 133,
   "metadata": {},
   "outputs": [],
   "source": [
    "def calc_likelihood(vec):\n",
    "    probs = defaultdict(float)\n",
    "    for label in labels:\n",
    "        theta = cond_probs[label]\n",
    "        prob = 0\n",
    "        for ind in range(len(vec)):\n",
    "            prob += vec[ind]*np.log(theta[ind])\n",
    "        probs[label] = prob\n",
    "    return probs\n",
    "\n",
    "    "
   ]
  },
  {
   "cell_type": "code",
   "execution_count": 151,
   "metadata": {},
   "outputs": [
    {
     "data": {
      "text/plain": [
       "defaultdict(float,\n",
       "            {'e': -7831.526627933024,\n",
       "             'j': -8785.97323665006,\n",
       "             's': -8456.930738428555})"
      ]
     },
     "execution_count": 151,
     "metadata": {},
     "output_type": "execute_result"
    }
   ],
   "source": [
    "likelihood = calc_likelihood(vec)\n",
    "likelihood"
   ]
  },
  {
   "cell_type": "code",
   "execution_count": 143,
   "metadata": {},
   "outputs": [],
   "source": [
    "def calc_posterior(likelihood, priors):\n",
    "    posterior = defaultdict(float)\n",
    "    for k in likelihood.keys():\n",
    "        posterior[k] = likelihood[k]+ np.log(priors[k])\n",
    "    return posterior"
   ]
  },
  {
   "cell_type": "code",
   "execution_count": 144,
   "metadata": {},
   "outputs": [],
   "source": [
    "posterior_vals = calc_posterior(likelihood, priors)"
   ]
  },
  {
   "cell_type": "code",
   "execution_count": 145,
   "metadata": {},
   "outputs": [
    {
     "data": {
      "text/plain": [
       "defaultdict(float,\n",
       "            {'e': -7832.625157944363,\n",
       "             'j': -8787.144596202947,\n",
       "             's': -8457.961615514505})"
      ]
     },
     "execution_count": 145,
     "metadata": {},
     "output_type": "execute_result"
    }
   ],
   "source": [
    "posterior_vals"
   ]
  },
  {
   "cell_type": "code",
   "execution_count": 146,
   "metadata": {},
   "outputs": [
    {
     "data": {
      "text/plain": [
       "'e'"
      ]
     },
     "execution_count": 146,
     "metadata": {},
     "output_type": "execute_result"
    }
   ],
   "source": [
    "sorted(posterior_vals.items(), key=lambda x: x[1])[-1][0]"
   ]
  },
  {
   "cell_type": "code",
   "execution_count": 147,
   "metadata": {},
   "outputs": [],
   "source": [
    "def NaiveBayesClassifier(filename):\n",
    "    vec = get_doc_vec(filename)\n",
    "    likelihood = calc_likelihood(vec)\n",
    "    posterior_vals = calc_posterior(likelihood, priors)\n",
    "    predicted_label = sorted(posterior_vals.items(), key=lambda x: x[1])[-1][0]\n",
    "    return predicted_label"
   ]
  },
  {
   "cell_type": "code",
   "execution_count": 148,
   "metadata": {},
   "outputs": [
    {
     "data": {
      "text/plain": [
       "defaultdict(list,\n",
       "            {'e': ['e', 'e', 'e', 'e', 'e', 'e', 'e', 'e', 'e', 'e'],\n",
       "             'j': ['j', 'j', 'j', 'j', 'j', 'j', 'j', 'j', 'j', 'j'],\n",
       "             's': ['s', 's', 's', 's', 's', 's', 's', 's', 's', 's']})"
      ]
     },
     "execution_count": 148,
     "metadata": {},
     "output_type": "execute_result"
    }
   ],
   "source": [
    "classification_matrix = defaultdict(list)\n",
    "for label in labels:\n",
    "    for nums in range(10,20):\n",
    "        filename = label+str(nums)+'.txt'\n",
    "        predicted_label = NaiveBayesClassifier(filename)\n",
    "        classification_matrix[label].append(predicted_label)\n",
    "classification_matrix"
   ]
  },
  {
   "cell_type": "code",
   "execution_count": 149,
   "metadata": {},
   "outputs": [
    {
     "name": "stdout",
     "output_type": "stream",
     "text": [
      "defaultdict(<class 'dict'>, {'e': {'e': 10, 'j': 0, 's': 0}, 'j': {'e': 0, 'j': 10, 's': 0}, 's': {'e': 0, 'j': 0, 's': 10}})\n"
     ]
    }
   ],
   "source": [
    "confusion_matrix = defaultdict(dict)\n",
    "\n",
    "for label in labels:\n",
    "    counts = Counter(classification_matrix[label])\n",
    "    for l in labels:\n",
    "        confusion_matrix[label][l] = counts[l]\n",
    "print(confusion_matrix)"
   ]
  },
  {
   "cell_type": "code",
   "execution_count": 150,
   "metadata": {},
   "outputs": [
    {
     "name": "stdout",
     "output_type": "stream",
     "text": [
      "[[10, 0, 0], [0, 10, 0], [0, 0, 10]]\n"
     ]
    }
   ],
   "source": [
    "confusion_matrix_plot = []\n",
    "for predicted_label in labels:\n",
    "    confusion_matrix_row = []\n",
    "    for real_label in labels:\n",
    "        confusion_matrix_row.append(confusion_matrix[real_label][predicted_label])\n",
    "    confusion_matrix_plot.append(confusion_matrix_row)\n",
    "print(confusion_matrix_plot)"
   ]
  },
  {
   "cell_type": "code",
   "execution_count": null,
   "metadata": {},
   "outputs": [],
   "source": []
  },
  {
   "cell_type": "code",
   "execution_count": null,
   "metadata": {},
   "outputs": [],
   "source": []
  }
 ],
 "metadata": {
  "kernelspec": {
   "display_name": "base",
   "language": "python",
   "name": "python3"
  },
  "language_info": {
   "codemirror_mode": {
    "name": "ipython",
    "version": 3
   },
   "file_extension": ".py",
   "mimetype": "text/x-python",
   "name": "python",
   "nbconvert_exporter": "python",
   "pygments_lexer": "ipython3",
   "version": "3.11.0"
  }
 },
 "nbformat": 4,
 "nbformat_minor": 2
}
